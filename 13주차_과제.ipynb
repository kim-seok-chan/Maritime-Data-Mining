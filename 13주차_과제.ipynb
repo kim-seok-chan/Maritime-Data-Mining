{
  "nbformat": 4,
  "nbformat_minor": 0,
  "metadata": {
    "colab": {
      "provenance": []
    },
    "kernelspec": {
      "name": "python3",
      "display_name": "Python 3"
    },
    "language_info": {
      "name": "python"
    }
  },
  "cells": [
    {
      "cell_type": "code",
      "execution_count": 3,
      "metadata": {
        "colab": {
          "base_uri": "https://localhost:8080/"
        },
        "id": "BMV3AX-cEXPL",
        "outputId": "6ab70c5c-3a2e-483f-febe-d2bb0445e1d6"
      },
      "outputs": [
        {
          "output_type": "stream",
          "name": "stdout",
          "text": [
            "Requirement already satisfied: folium in /usr/local/lib/python3.11/dist-packages (0.19.6)\n",
            "Requirement already satisfied: branca>=0.6.0 in /usr/local/lib/python3.11/dist-packages (from folium) (0.8.1)\n",
            "Requirement already satisfied: jinja2>=2.9 in /usr/local/lib/python3.11/dist-packages (from folium) (3.1.6)\n",
            "Requirement already satisfied: numpy in /usr/local/lib/python3.11/dist-packages (from folium) (2.0.2)\n",
            "Requirement already satisfied: requests in /usr/local/lib/python3.11/dist-packages (from folium) (2.32.3)\n",
            "Requirement already satisfied: xyzservices in /usr/local/lib/python3.11/dist-packages (from folium) (2025.4.0)\n",
            "Requirement already satisfied: MarkupSafe>=2.0 in /usr/local/lib/python3.11/dist-packages (from jinja2>=2.9->folium) (3.0.2)\n",
            "Requirement already satisfied: charset-normalizer<4,>=2 in /usr/local/lib/python3.11/dist-packages (from requests->folium) (3.4.2)\n",
            "Requirement already satisfied: idna<4,>=2.5 in /usr/local/lib/python3.11/dist-packages (from requests->folium) (3.10)\n",
            "Requirement already satisfied: urllib3<3,>=1.21.1 in /usr/local/lib/python3.11/dist-packages (from requests->folium) (2.4.0)\n",
            "Requirement already satisfied: certifi>=2017.4.17 in /usr/local/lib/python3.11/dist-packages (from requests->folium) (2025.4.26)\n",
            "Drive already mounted at /content/drive; to attempt to forcibly remount, call drive.mount(\"/content/drive\", force_remount=True).\n",
            "🚉 출근 시간 하차 인원 Top 3 역:\n",
            "station_code\n",
            "2748    6067855\n",
            "222     5757499\n",
            "221     5521983\n",
            "Name: people_out, dtype: int64\n",
            "\n",
            "🚇 퇴근 시간 승차 인원 Top 3 역:\n",
            "station_code\n",
            "222    14845284\n",
            "219     9535958\n",
            "239     9453758\n",
            "Name: people_in, dtype: int64\n"
          ]
        }
      ],
      "source": [
        "# ✅ 라이브러리 설치\n",
        "!pip install folium\n",
        "\n",
        "# ✅ Google Drive 마운트\n",
        "from google.colab import drive\n",
        "drive.mount('/content/drive')\n",
        "\n",
        "# ✅ 기본 라이브러리\n",
        "import pandas as pd\n",
        "import folium\n",
        "from folium.plugins import HeatMap\n",
        "\n",
        "# ✅ CSV 경로 (본인의 Google Drive 경로에 맞게 수정)\n",
        "logs_path = '/content/drive/MyDrive/seoul-metro-2021.logs.csv'\n",
        "station_path = '/content/drive/MyDrive/seoul-metro-station-info.csv'\n",
        "\n",
        "# ✅ 데이터 불러오기\n",
        "logs_df = pd.read_csv(logs_path)\n",
        "station_df = pd.read_csv(station_path)\n",
        "\n",
        "# ✅ timestamp 컬럼 datetime 변환\n",
        "logs_df['timestamp'] = pd.to_datetime(logs_df['timestamp'], errors='coerce')\n",
        "\n",
        "# ✅ 출근 시간 (09시 이전), 퇴근 시간 (17시 이후) 추출\n",
        "morning_df = logs_df[logs_df['timestamp'].dt.hour < 9]\n",
        "evening_df = logs_df[logs_df['timestamp'].dt.hour >= 17]\n",
        "\n",
        "# ✅ 그룹화 (역 코드 기준 합계 계산)\n",
        "morning_grouped = morning_df.groupby('station_code')[['people_in', 'people_out']].sum()\n",
        "evening_grouped = evening_df.groupby('station_code')[['people_in', 'people_out']].sum()\n",
        "\n",
        "# ✅ 지하철역 위치 정보 정리\n",
        "station_info = station_df[['station.code', 'geo.latitude', 'geo.longitude']]\n",
        "station_info.columns = ['station_code', 'latitude', 'longitude']\n",
        "station_info.set_index('station_code', inplace=True)\n",
        "\n",
        "# ✅ 위치정보 병합\n",
        "morning_merged = morning_grouped.join(station_info, how='inner')\n",
        "evening_merged = evening_grouped.join(station_info, how='inner')\n",
        "\n",
        "# ✅ 히트맵 시각화 - 출근\n",
        "m1 = folium.Map(location=[37.5665, 126.9780], zoom_start=11)\n",
        "HeatMap(data=morning_merged[['latitude', 'longitude', 'people_out']].dropna().values,\n",
        "        radius=10).add_to(m1)\n",
        "m1.save('morning_heatmap.html')\n",
        "\n",
        "# ✅ 히트맵 시각화 - 퇴근\n",
        "m2 = folium.Map(location=[37.5665, 126.9780], zoom_start=11)\n",
        "HeatMap(data=evening_merged[['latitude', 'longitude', 'people_in']].dropna().values,\n",
        "        radius=10).add_to(m2)\n",
        "m2.save('evening_heatmap.html')\n",
        "\n",
        "# ✅ 유동인구 많은 상위 지하철역 Top3 출력\n",
        "top_morning = morning_grouped['people_out'].sort_values(ascending=False).head(3)\n",
        "top_evening = evening_grouped['people_in'].sort_values(ascending=False).head(3)\n",
        "\n",
        "print(\"🚉 출근 시간 하차 인원 Top 3 역:\")\n",
        "print(top_morning)\n",
        "\n",
        "print(\"\\n🚇 퇴근 시간 승차 인원 Top 3 역:\")\n",
        "print(top_evening)\n"
      ]
    }
  ]
}